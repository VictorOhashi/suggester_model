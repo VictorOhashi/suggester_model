{
 "cells": [
  {
   "cell_type": "code",
   "execution_count": 1,
   "metadata": {},
   "outputs": [],
   "source": [
    "import os\n",
    "import sys\n",
    "module_path = os.path.abspath(os.path.join('..'))\n",
    "if module_path not in sys.path:\n",
    "    sys.path.append(module_path)\n",
    "\n",
    "%load_ext dotenv\n",
    "%dotenv"
   ]
  },
  {
   "cell_type": "code",
   "execution_count": null,
   "metadata": {},
   "outputs": [],
   "source": [
    "from sailor import RouteGenConfig, SailorDataWarehouse\n",
    "\n",
    "_config = RouteGenConfig.from_env()\n",
    "warehouse = SailorDataWarehouse(_config, db_path=\"../db/sailor_db.sqlite\")\n",
    "\n",
    "routes = await warehouse.create_routes(context=\"flight agency admin panel\", count=20)\n",
    "\n",
    "# engineer = SailorDataEngineer(_config, cache_key='test_model', route_description=\"flight agency admin panel\")\n",
    "\n",
    "# route_context = await engineer.generate_data(20, 200)"
   ]
  },
  {
   "cell_type": "code",
   "execution_count": null,
   "metadata": {},
   "outputs": [],
   "source": [
    "from sailor import RouteDocumentor\n",
    "from sklearn.model_selection import train_test_split\n",
    "from sailor.types.route_context import NavigationContext\n",
    "\n",
    "if route_context is None:\n",
    "\traise ValueError(\"route_context must be generated first\")\n",
    "\n",
    "train_sessions, test_sessions = train_test_split(route_context.sessions, test_size=0.2, random_state=14)\n",
    "train_context = NavigationContext(routes=route_context.routes, sessions=train_sessions)\n",
    "\n",
    "documentor = RouteDocumentor(train_context)\n",
    "labels = documentor.fit_transform()"
   ]
  },
  {
   "cell_type": "code",
   "execution_count": null,
   "metadata": {},
   "outputs": [],
   "source": [
    "from sklearn.pipeline import Pipeline\n",
    "from sklearn.feature_extraction.text import TfidfVectorizer\n",
    "from sklearn.neighbors import KNeighborsClassifier\n",
    "\n",
    "pipeline = Pipeline([\n",
    "    ('tfidf', TfidfVectorizer(stop_words='english')),\n",
    "    ('knn', KNeighborsClassifier(weights='distance', n_neighbors=2))\n",
    "])\n",
    "\n",
    "pipeline.fit(documentor.documents, labels)"
   ]
  },
  {
   "cell_type": "code",
   "execution_count": null,
   "metadata": {},
   "outputs": [],
   "source": [
    "from sklearn.metrics import classification_report\n",
    "\n",
    "test_queries = [s.context for s in test_sessions]\n",
    "_predictions = pipeline.predict(test_queries)\n",
    "\n",
    "_targets = documentor.transform([s.target for s in test_sessions])\n",
    "print(classification_report(_targets, _predictions, target_names=documentor.labels_))"
   ]
  },
  {
   "cell_type": "code",
   "execution_count": null,
   "metadata": {},
   "outputs": [],
   "source": [
    "from typing import List\n",
    "import numpy as np\n",
    "\n",
    "from sailor.types.route_context import RouteContextResult\n",
    "\n",
    "def _scored_routes(scores) -> List[RouteContextResult]:\n",
    "    sorted_index = np.argsort(scores)[::-1]\n",
    "    routes: List[RouteContextResult] = []\n",
    "    for i in sorted_index:\n",
    "      route = documentor.inverse_transform(i)\n",
    "      if route is not None:\n",
    "        route = route.copy_with_score(float(scores[i]))\n",
    "        routes.append(route)\n",
    "    return routes\n",
    "\n",
    "def predict(query: str) -> List[RouteContextResult]:\n",
    "    if not query.strip():\n",
    "        return []\n",
    "\n",
    "    scores = pipeline.predict_proba([query])[0]\n",
    "    return _scored_routes(scores)"
   ]
  }
 ],
 "metadata": {
  "kernelspec": {
   "display_name": ".venv",
   "language": "python",
   "name": "python3"
  },
  "language_info": {
   "codemirror_mode": {
    "name": "ipython",
    "version": 3
   },
   "file_extension": ".py",
   "mimetype": "text/x-python",
   "name": "python",
   "nbconvert_exporter": "python",
   "pygments_lexer": "ipython3",
   "version": "3.12.7"
  }
 },
 "nbformat": 4,
 "nbformat_minor": 2
}
