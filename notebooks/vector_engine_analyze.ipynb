{
 "cells": [
  {
   "cell_type": "code",
   "execution_count": 1,
   "metadata": {},
   "outputs": [],
   "source": [
    "import os\n",
    "import sys\n",
    "module_path = os.path.abspath(os.path.join('..'))\n",
    "if module_path not in sys.path:\n",
    "    sys.path.append(module_path)\n",
    "\n",
    "%load_ext dotenv\n",
    "%dotenv"
   ]
  },
  {
   "cell_type": "code",
   "execution_count": 2,
   "metadata": {},
   "outputs": [],
   "source": [
    "from sailor.sailor_data_engineer import RouteGenConfig, SailorDataEngineer\n",
    "\n",
    "\n",
    "_config = RouteGenConfig.from_env()\n",
    "engineer = SailorDataEngineer(_config, cache_key='vector_test', route_context=\"flight agency\")"
   ]
  },
  {
   "cell_type": "code",
   "execution_count": 3,
   "metadata": {},
   "outputs": [
    {
     "name": "stdout",
     "output_type": "stream",
     "text": [
      "=== TfidfSailorEngine ===\n",
      "Accuracy: 0.07\n",
      "Precision: 0.06\n",
      "Recall: 0.07\n",
      "F1-Score: 0.06\n",
      "Top-5 Accuracy: 0.30\n",
      "NDCG@5: 0.19\n",
      "Inference time: 0.0017 s\n",
      "\n"
     ]
    }
   ],
   "source": [
    "from notebooks.vector_test_engine import VectorTestEngine\n",
    "from sailor.vector_sailor_engine import TfidfSailorEngine\n",
    "\n",
    "tfidf_engine = VectorTestEngine(TfidfSailorEngine(), engineer)\n",
    "\n",
    "await tfidf_engine.build()\n",
    "tfidf_engine.evaluate()"
   ]
  },
  {
   "cell_type": "code",
   "execution_count": 4,
   "metadata": {},
   "outputs": [
    {
     "name": "stdout",
     "output_type": "stream",
     "text": [
      "=== SVCSailorEngine ===\n",
      "Accuracy: 0.79\n",
      "Precision: 0.80\n",
      "Recall: 0.79\n",
      "F1-Score: 0.78\n",
      "Top-5 Accuracy: 0.97\n",
      "NDCG@5: 0.90\n",
      "Inference time: 0.0013 s\n",
      "\n"
     ]
    }
   ],
   "source": [
    "from notebooks.vector_test_engine import VectorTestEngine\n",
    "from sailor.vector_sailor_engine import SVCSailorEngine\n",
    "\n",
    "svc_engine = VectorTestEngine(SVCSailorEngine(), engineer)\n",
    "\n",
    "await svc_engine.build()\n",
    "svc_engine.evaluate()"
   ]
  },
  {
   "cell_type": "code",
   "execution_count": 5,
   "metadata": {},
   "outputs": [
    {
     "name": "stdout",
     "output_type": "stream",
     "text": [
      "=== KNNSailorEngine ===\n",
      "Accuracy: 0.85\n",
      "Precision: 0.85\n",
      "Recall: 0.85\n",
      "F1-Score: 0.85\n",
      "Top-5 Accuracy: 0.99\n",
      "NDCG@5: 0.93\n",
      "Inference time: 0.0018 s\n",
      "\n"
     ]
    }
   ],
   "source": [
    "from notebooks.vector_test_engine import VectorTestEngine\n",
    "from sailor.vector_sailor_engine import KNNSailorEngine\n",
    "\n",
    "knn_engine = VectorTestEngine(KNNSailorEngine(), engineer)\n",
    "\n",
    "await knn_engine.build()\n",
    "knn_engine.evaluate()"
   ]
  }
 ],
 "metadata": {
  "kernelspec": {
   "display_name": ".venv",
   "language": "python",
   "name": "python3"
  },
  "language_info": {
   "codemirror_mode": {
    "name": "ipython",
    "version": 3
   },
   "file_extension": ".py",
   "mimetype": "text/x-python",
   "name": "python",
   "nbconvert_exporter": "python",
   "pygments_lexer": "ipython3",
   "version": "3.11.9"
  }
 },
 "nbformat": 4,
 "nbformat_minor": 2
}
