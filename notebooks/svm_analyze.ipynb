{
 "cells": [
  {
   "cell_type": "markdown",
   "metadata": {},
   "source": [
    "# Support vector machine (SVM)"
   ]
  },
  {
   "cell_type": "markdown",
   "metadata": {},
   "source": [
    "## 1. Setup project\n",
    "\n",
    "### 1.1. Environment setup"
   ]
  },
  {
   "cell_type": "code",
   "execution_count": 1,
   "metadata": {},
   "outputs": [
    {
     "name": "stdout",
     "output_type": "stream",
     "text": [
      "cannot find .env file\n"
     ]
    }
   ],
   "source": [
    "import os\n",
    "import sys\n",
    "module_path = os.path.abspath(os.path.join('..'))\n",
    "if module_path not in sys.path:\n",
    "    sys.path.append(module_path)\n",
    "\n",
    "%load_ext dotenv\n",
    "%dotenv"
   ]
  },
  {
   "cell_type": "markdown",
   "metadata": {},
   "source": [
    "### 1.2. Build train data"
   ]
  },
  {
   "cell_type": "code",
   "execution_count": 2,
   "metadata": {},
   "outputs": [
    {
     "ename": "OpenAIError",
     "evalue": "The api_key client option must be set either by passing api_key to the client or by setting the OPENAI_API_KEY environment variable",
     "output_type": "error",
     "traceback": [
      "\u001b[1;31m---------------------------------------------------------------------------\u001b[0m",
      "\u001b[1;31mOpenAIError\u001b[0m                               Traceback (most recent call last)",
      "Cell \u001b[1;32mIn[2], line 8\u001b[0m\n\u001b[0;32m      1\u001b[0m \u001b[38;5;28;01mfrom\u001b[39;00m\u001b[38;5;250m \u001b[39m\u001b[38;5;21;01msailor\u001b[39;00m\u001b[38;5;250m \u001b[39m\u001b[38;5;28;01mimport\u001b[39;00m SailorDataEngineer, RouteGenConfig\n\u001b[0;32m      3\u001b[0m _config \u001b[38;5;241m=\u001b[39m RouteGenConfig(\n\u001b[0;32m      4\u001b[0m   api_key\u001b[38;5;241m=\u001b[39mos\u001b[38;5;241m.\u001b[39mgetenv(\u001b[38;5;124m\"\u001b[39m\u001b[38;5;124mAI_API_KEY\u001b[39m\u001b[38;5;124m\"\u001b[39m), \u001b[38;5;66;03m# type: ignore\u001b[39;00m\n\u001b[0;32m      5\u001b[0m   model\u001b[38;5;241m=\u001b[39mos\u001b[38;5;241m.\u001b[39mgetenv(\u001b[38;5;124m\"\u001b[39m\u001b[38;5;124mAI_MODEL\u001b[39m\u001b[38;5;124m\"\u001b[39m), \u001b[38;5;66;03m# type: ignore\u001b[39;00m\n\u001b[0;32m      6\u001b[0m   base_url\u001b[38;5;241m=\u001b[39mos\u001b[38;5;241m.\u001b[39mgetenv(\u001b[38;5;124m\"\u001b[39m\u001b[38;5;124mAI_MODEL_URL\u001b[39m\u001b[38;5;124m\"\u001b[39m),\n\u001b[0;32m      7\u001b[0m   cache_dir\u001b[38;5;241m=\u001b[39m\u001b[38;5;124m\"\u001b[39m\u001b[38;5;124m../build/cache\u001b[39m\u001b[38;5;124m\"\u001b[39m)\n\u001b[1;32m----> 8\u001b[0m _engineer \u001b[38;5;241m=\u001b[39m \u001b[43mSailorDataEngineer\u001b[49m\u001b[43m(\u001b[49m\u001b[43m_config\u001b[49m\u001b[43m)\u001b[49m\n\u001b[0;32m     10\u001b[0m _route_context \u001b[38;5;241m=\u001b[39m \u001b[38;5;124m\"\u001b[39m\u001b[38;5;124mflight agency\u001b[39m\u001b[38;5;124m\"\u001b[39m\n\u001b[0;32m     11\u001b[0m routes_context \u001b[38;5;241m=\u001b[39m \u001b[38;5;28;01mawait\u001b[39;00m _engineer\u001b[38;5;241m.\u001b[39mgenerate_data(route_context\u001b[38;5;241m=\u001b[39m_route_context, cache_key\u001b[38;5;241m=\u001b[39m\u001b[38;5;124m\"\u001b[39m\u001b[38;5;124mtrain_flight_agency\u001b[39m\u001b[38;5;124m\"\u001b[39m)\n",
      "File \u001b[1;32m~\\Projects\\Workspace\\suggester_model\\sailor\\sailor_data_engineer.py:26\u001b[0m, in \u001b[0;36mSailorDataEngineer.__init__\u001b[1;34m(self, config)\u001b[0m\n\u001b[0;32m     24\u001b[0m \u001b[38;5;28;01mdef\u001b[39;00m\u001b[38;5;250m \u001b[39m\u001b[38;5;21m__init__\u001b[39m(\u001b[38;5;28mself\u001b[39m, config: RouteGenConfig):\n\u001b[0;32m     25\u001b[0m     \u001b[38;5;28mself\u001b[39m\u001b[38;5;241m.\u001b[39m_config \u001b[38;5;241m=\u001b[39m config\n\u001b[1;32m---> 26\u001b[0m     \u001b[38;5;28mself\u001b[39m\u001b[38;5;241m.\u001b[39m_client \u001b[38;5;241m=\u001b[39m \u001b[43mAsyncOpenAI\u001b[49m\u001b[43m(\u001b[49m\u001b[43mapi_key\u001b[49m\u001b[38;5;241;43m=\u001b[39;49m\u001b[43mconfig\u001b[49m\u001b[38;5;241;43m.\u001b[39;49m\u001b[43mapi_key\u001b[49m\u001b[43m,\u001b[49m\u001b[43m \u001b[49m\u001b[43mbase_url\u001b[49m\u001b[38;5;241;43m=\u001b[39;49m\u001b[43mconfig\u001b[49m\u001b[38;5;241;43m.\u001b[39;49m\u001b[43mbase_url\u001b[49m\u001b[43m)\u001b[49m\u001b[38;5;241m.\u001b[39mbeta\n",
      "File \u001b[1;32mc:\\Users\\victo\\Projects\\Workspace\\suggester_model\\.venv\\Lib\\site-packages\\openai\\_client.py:337\u001b[0m, in \u001b[0;36mAsyncOpenAI.__init__\u001b[1;34m(self, api_key, organization, project, base_url, websocket_base_url, timeout, max_retries, default_headers, default_query, http_client, _strict_response_validation)\u001b[0m\n\u001b[0;32m    335\u001b[0m     api_key \u001b[38;5;241m=\u001b[39m os\u001b[38;5;241m.\u001b[39menviron\u001b[38;5;241m.\u001b[39mget(\u001b[38;5;124m\"\u001b[39m\u001b[38;5;124mOPENAI_API_KEY\u001b[39m\u001b[38;5;124m\"\u001b[39m)\n\u001b[0;32m    336\u001b[0m \u001b[38;5;28;01mif\u001b[39;00m api_key \u001b[38;5;129;01mis\u001b[39;00m \u001b[38;5;28;01mNone\u001b[39;00m:\n\u001b[1;32m--> 337\u001b[0m     \u001b[38;5;28;01mraise\u001b[39;00m OpenAIError(\n\u001b[0;32m    338\u001b[0m         \u001b[38;5;124m\"\u001b[39m\u001b[38;5;124mThe api_key client option must be set either by passing api_key to the client or by setting the OPENAI_API_KEY environment variable\u001b[39m\u001b[38;5;124m\"\u001b[39m\n\u001b[0;32m    339\u001b[0m     )\n\u001b[0;32m    340\u001b[0m \u001b[38;5;28mself\u001b[39m\u001b[38;5;241m.\u001b[39mapi_key \u001b[38;5;241m=\u001b[39m api_key\n\u001b[0;32m    342\u001b[0m \u001b[38;5;28;01mif\u001b[39;00m organization \u001b[38;5;129;01mis\u001b[39;00m \u001b[38;5;28;01mNone\u001b[39;00m:\n",
      "\u001b[1;31mOpenAIError\u001b[0m: The api_key client option must be set either by passing api_key to the client or by setting the OPENAI_API_KEY environment variable"
     ]
    }
   ],
   "source": [
    "from sailor import SailorDataEngineer, RouteGenConfig\n",
    "\n",
    "_config = RouteGenConfig(\n",
    "  api_key=os.getenv(\"AI_API_KEY\"), # type: ignore\n",
    "  model=os.getenv(\"AI_MODEL\"), # type: ignore\n",
    "  base_url=os.getenv(\"AI_MODEL_URL\"),\n",
    "  cache_dir=\"../build/cache\")\n",
    "_engineer = SailorDataEngineer(_config)\n",
    "\n",
    "_route_context = \"flight agency\"\n",
    "routes_context = await _engineer.generate_data(route_context=_route_context, cache_key=\"train_flight_agency\")"
   ]
  },
  {
   "cell_type": "markdown",
   "metadata": {},
   "source": [
    "### 1.3. Train test split"
   ]
  },
  {
   "cell_type": "code",
   "execution_count": null,
   "metadata": {},
   "outputs": [],
   "source": [
    "from sailor import NavigationContext\n",
    "from sklearn.model_selection import train_test_split\n",
    "\n",
    "_train_sessions, _test_sessions = train_test_split(routes_context.sessions, test_size=0.2)\n",
    "\n",
    "train_context = NavigationContext(routes=routes_context.routes, sessions=_train_sessions)"
   ]
  },
  {
   "cell_type": "markdown",
   "metadata": {},
   "source": [
    "## 2. Setup model "
   ]
  },
  {
   "cell_type": "code",
   "execution_count": null,
   "metadata": {},
   "outputs": [],
   "source": [
    "import numpy as np\n",
    "from sailor import RouteVectorizer\n",
    "from sklearn.svm import LinearSVC\n",
    "\n",
    "vectorizer = RouteVectorizer()\n",
    "route_vectors, labels =  vectorizer.fit(train_context)\n",
    "\n",
    "model = LinearSVC(class_weight=\"balanced\", max_iter=2000)\n",
    "model.fit(route_vectors, labels)\n",
    "\n",
    "def recommend_route(query: str, top_n=3):\n",
    "    query_vec = vectorizer.transform(query)\n",
    "    scores = model.decision_function(query_vec)[0]\n",
    "    scores = 1 / (1 + np.exp(-scores))\n",
    "    sorted_indices = np.argsort(scores)[::-1][:top_n]\n",
    "\n",
    "    return [(vectorizer.inverse_transform(i), scores[i]) for i in sorted_indices]\n"
   ]
  },
  {
   "cell_type": "markdown",
   "metadata": {},
   "source": [
    "## 3. Validate vectorizer \n",
    "\n",
    "### 3.1. Test vectorizer"
   ]
  },
  {
   "cell_type": "code",
   "execution_count": null,
   "metadata": {},
   "outputs": [],
   "source": [
    "import time\n",
    "\n",
    "def _test_query(query):\n",
    "    start_time = time.time()\n",
    "    results = recommend_route(query)\n",
    "    latency = (time.time() - start_time)*1000\n",
    "    print(f\"Results ({latency:.2f}ms):\")\n",
    "\n",
    "    for route, score in results:\n",
    "        print(f\"- {route.id} | {route.path} (score: {score:.3f})\")\n",
    "\n",
    "for session in _test_sessions:\n",
    "    for route in routes_context.routes:\n",
    "        if route.id == session.route_id:\n",
    "            break\n",
    "\n",
    "    query = session.intention.context\n",
    "    print(f\"Query: '{query}'; Expected route: {route.id} | {route.path};\")\n",
    "    _test_query(query)"
   ]
  },
  {
   "cell_type": "markdown",
   "metadata": {},
   "source": [
    "### 3.2. Analyze size"
   ]
  },
  {
   "cell_type": "code",
   "execution_count": null,
   "metadata": {},
   "outputs": [],
   "source": [
    "print(\"Vocabulary size:\", len(vectorizer._vectorizer.vocabulary_))\n",
    "print(\"Vector size:\", sys.getsizeof(vectorizer.route_vectors))\n"
   ]
  },
  {
   "cell_type": "markdown",
   "metadata": {},
   "source": [
    "### 3.2. Analyze route similarity"
   ]
  },
  {
   "cell_type": "code",
   "execution_count": null,
   "metadata": {},
   "outputs": [],
   "source": [
    "import matplotlib.pyplot as plt\n",
    "from sklearn.metrics.pairwise import cosine_similarity\n",
    "\n",
    "similarity_matrix = cosine_similarity(vectorizer.route_vectors)\n",
    "plt.figure(figsize=(10, 8))\n",
    "plt.imshow(similarity_matrix, cmap=\"Blues\")\n",
    "plt.colorbar(label=\"Similarity Score\")\n",
    "plt.title(\"Route Similarity Matrix\")\n",
    "\n",
    "_test_routes = [r.path for r in routes_context.routes if r in _test_sessions]\n",
    "\n",
    "plt.xticks(ticks=range(len(_test_routes)), labels=_test_routes, rotation=90)\n",
    "plt.yticks(ticks=range(len(_test_routes)), labels=_test_routes)\n",
    "\n",
    "plt.show()"
   ]
  }
 ],
 "metadata": {
  "kernelspec": {
   "display_name": ".venv",
   "language": "python",
   "name": "python3"
  },
  "language_info": {
   "codemirror_mode": {
    "name": "ipython",
    "version": 3
   },
   "file_extension": ".py",
   "mimetype": "text/x-python",
   "name": "python",
   "nbconvert_exporter": "python",
   "pygments_lexer": "ipython3",
   "version": "3.11.9"
  }
 },
 "nbformat": 4,
 "nbformat_minor": 2
}
