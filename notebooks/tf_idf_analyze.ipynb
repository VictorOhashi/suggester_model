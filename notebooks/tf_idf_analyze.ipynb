{
 "cells": [
  {
   "cell_type": "markdown",
   "metadata": {},
   "source": [
    "# Term frequency - Inverse document frequency (TF-IDF)"
   ]
  },
  {
   "cell_type": "code",
   "execution_count": 56,
   "metadata": {},
   "outputs": [
    {
     "name": "stdout",
     "output_type": "stream",
     "text": [
      "The dotenv extension is already loaded. To reload it, use:\n",
      "  %reload_ext dotenv\n"
     ]
    }
   ],
   "source": [
    "import os\n",
    "import sys\n",
    "module_path = os.path.abspath(os.path.join('..'))\n",
    "if module_path not in sys.path:\n",
    "    sys.path.append(module_path)\n",
    "\n",
    "%load_ext dotenv\n",
    "%dotenv"
   ]
  },
  {
   "cell_type": "code",
   "execution_count": 57,
   "metadata": {},
   "outputs": [],
   "source": [
    "from sailor import SailorDataEngineer, RouteGenConfig\n",
    "from sklearn.model_selection import train_test_split\n",
    "\n",
    "from sailor.route_specs import NavigationContext\n",
    "\n",
    "_config = RouteGenConfig(\n",
    "  api_key=os.getenv(\"AI_API_KEY\"), # type: ignore\n",
    "  model=os.getenv(\"AI_MODEL\"), # type: ignore\n",
    "  base_url=os.getenv(\"AI_MODEL_URL\"),\n",
    "  cache_dir=\"../build/cache\")\n",
    "\n",
    "\n",
    "_context = \"flight agency\"\n",
    "_cache_key = \"flight_agency\"\n",
    "\n",
    "_engineer = SailorDataEngineer(_config)\n",
    "_routes_context = await _engineer.generate_data(route_context=_context, cache_key=_cache_key)\n",
    "if _routes_context is None:\n",
    "    raise ValueError(\"No data generated\")\n",
    "\n",
    "routes_context: NavigationContext = _routes_context\n",
    "train_sessions, test_sessions = train_test_split(routes_context.sessions, test_size=0.2, random_state=1)"
   ]
  },
  {
   "cell_type": "code",
   "execution_count": 58,
   "metadata": {},
   "outputs": [
    {
     "data": {
      "text/plain": [
       "(<Compressed Sparse Row sparse matrix of dtype 'float64'\n",
       " \twith 292 stored elements and shape (36, 179)>,\n",
       " array([13, 12, 17, 34,  8, 14,  5, 11, 30, 25, 21,  7,  3, 28, 33, 20, 16,\n",
       "        15, 18,  2,  9, 35, 10, 24,  1, 19, 29,  6, 22, 23, 27, 31,  4, 32,\n",
       "        26,  0]))"
      ]
     },
     "execution_count": 58,
     "metadata": {},
     "output_type": "execute_result"
    }
   ],
   "source": [
    "from sailor import TfidfSailorEngine\n",
    "\n",
    "engine = TfidfSailorEngine(routes=routes_context.routes)\n",
    "engine.train(train_sessions)"
   ]
  },
  {
   "cell_type": "markdown",
   "metadata": {},
   "source": [
    "## 3. Validate vectorizer \n",
    "\n",
    "### 3.1. Test vectorizer"
   ]
  },
  {
   "cell_type": "code",
   "execution_count": 59,
   "metadata": {},
   "outputs": [
    {
     "name": "stdout",
     "output_type": "stream",
     "text": [
      "Query: 'Clicked on the 'special assistance' link'; Expected route: /special-assistance;\n",
      "Results (3.18ms):\n",
      "- /flights/search (score: 0.807)\n",
      "- /mobile-app (score: 0.113)\n",
      "- /seat-map (score: 0.058)\n",
      "- /rewards-program (score: 0.055)\n",
      "- /investor-relations (score: 0.053)\n",
      "Query: 'Searching for flights for a group of 10'; Expected route: /flights/search;\n",
      "Results (2.52ms):\n",
      "- /group-booking (score: 0.581)\n",
      "- /accessibility-statement (score: 0.270)\n",
      "- /affiliate-program (score: 0.182)\n",
      "- /cars/search (score: 0.160)\n",
      "- /sustainability (score: 0.132)\n",
      "Query: 'Search for flights with a specific airline'; Expected route: /flights/search;\n",
      "Results (2.25ms):\n",
      "- /accessibility-statement (score: 0.910)\n",
      "- /airport-information (score: 0.566)\n",
      "- /careers (score: 0.373)\n",
      "- /affiliate-program (score: 0.275)\n",
      "- /cars/search (score: 0.242)\n",
      "Query: 'Searching for cheap flights to Cancun'; Expected route: /flights/search;\n",
      "Results (2.88ms):\n",
      "- /accessibility-statement (score: 0.356)\n",
      "- /affiliate-program (score: 0.240)\n",
      "- /cars/search (score: 0.211)\n",
      "- /sustainability (score: 0.174)\n",
      "- /customer-support (score: 0.074)\n",
      "Query: 'Search for hotels in Los Angeles'; Expected route: /hotels/search;\n",
      "Results (2.56ms):\n",
      "- /airport-information (score: 0.949)\n",
      "- /accessibility-statement (score: 0.466)\n",
      "- /careers (score: 0.310)\n",
      "- /flights/multi-city (score: 0.103)\n",
      "- /currency-converter (score: 0.000)\n",
      "Query: 'Clicked on the 'affiliate program' link'; Expected route: /affiliate-program;\n",
      "Results (1.91ms):\n",
      "- /package-deals (score: 0.861)\n",
      "- /user/profile (score: 0.398)\n",
      "- /seat-map (score: 0.058)\n",
      "- /rewards-program (score: 0.055)\n",
      "- /investor-relations (score: 0.053)\n",
      "Query: 'Looking for flights with carbon offset options'; Expected route: /flights/search;\n",
      "Results (1.82ms):\n",
      "- /accessibility-statement (score: 0.307)\n",
      "- /rewards-program (score: 0.232)\n",
      "- /affiliate-program (score: 0.157)\n",
      "- /cars/search (score: 0.138)\n",
      "- /sustainability (score: 0.114)\n",
      "Query: 'Looking for multi-city flights'; Expected route: /flights/multi-city;\n",
      "Results (1.83ms):\n",
      "- /sustainability (score: 0.769)\n",
      "- /accessibility-statement (score: 0.307)\n",
      "- /affiliate-program (score: 0.157)\n",
      "- /cars/search (score: 0.138)\n",
      "- /flights/multi-city (score: 0.101)\n",
      "Query: 'Clicked on the 'currency converter' link'; Expected route: /currency-converter;\n",
      "Results (1.78ms):\n",
      "- /lost-and-found (score: 0.835)\n",
      "- /seat-map (score: 0.056)\n",
      "- /rewards-program (score: 0.053)\n",
      "- /investor-relations (score: 0.051)\n",
      "- /gift-cards (score: 0.046)\n",
      "Query: 'Searching for weekend getaways by flight'; Expected route: /flights/search;\n",
      "Results (2.20ms):\n",
      "- /in-flight-entertainment (score: 0.255)\n",
      "- /affiliate-program (score: 0.184)\n",
      "- /cars/search (score: 0.162)\n",
      "- /accessibility-statement (score: 0.118)\n",
      "- /terms (score: 0.061)\n",
      "Query: 'Searching for flights with mileage points'; Expected route: /flights/search;\n",
      "Results (2.18ms):\n",
      "- /accessibility-statement (score: 0.270)\n",
      "- /affiliate-program (score: 0.182)\n",
      "- /cars/search (score: 0.160)\n",
      "- /sustainability (score: 0.132)\n",
      "- /user/profile (score: 0.107)\n",
      "Query: 'Clicked on the 'customer support' link'; Expected route: /customer-support;\n",
      "Results (1.82ms):\n",
      "- /mobile-app (score: 0.826)\n",
      "- /checkin (score: 0.094)\n",
      "- /boarding-pass (score: 0.083)\n",
      "- /seat-map (score: 0.060)\n",
      "- /rewards-program (score: 0.057)\n",
      "Query: 'Searching flights with flexible dates'; Expected route: /flights/search;\n",
      "Results (1.74ms):\n",
      "- /accessibility-statement (score: 0.356)\n",
      "- /affiliate-program (score: 0.240)\n",
      "- /cars/search (score: 0.211)\n",
      "- /sustainability (score: 0.174)\n",
      "- /customer-support (score: 0.074)\n"
     ]
    }
   ],
   "source": [
    "import time\n",
    "\n",
    "def _test_query(query):\n",
    "    start_time = time.time()\n",
    "    results = engine.predict(query)\n",
    "    latency = (time.time() - start_time)*1000\n",
    "    print(f\"Results ({latency:.2f}ms):\")\n",
    "\n",
    "    for route, score in results[:5]:\n",
    "        print(f\"- {route.path} (score: {score:.3f})\")\n",
    "\n",
    "for session in test_sessions:\n",
    "    for route in routes_context.routes:\n",
    "        if route.id == session.route_id:\n",
    "            break\n",
    "\n",
    "    query = session.intention.context\n",
    "    print(f\"Query: '{query}'; Expected route: {route.path};\")\n",
    "    _test_query(query)"
   ]
  },
  {
   "cell_type": "code",
   "execution_count": 60,
   "metadata": {},
   "outputs": [
    {
     "data": {
      "image/png": "[encoded data removed]",
      "text/plain": [
       "<Figure size 1000x800 with 2 Axes>"
      ]
     },
     "metadata": {},
     "output_type": "display_data"
    }
   ],
   "source": [
    "import matplotlib.pyplot as plt\n",
    "from sklearn.metrics.pairwise import cosine_similarity\n",
    "\n",
    "similarity_matrix = cosine_similarity(engine.vectorizer.route_vectors)\n",
    "plt.figure(figsize=(10, 8))\n",
    "plt.imshow(similarity_matrix, cmap=\"Blues\")\n",
    "plt.colorbar(label=\"Similarity Score\")\n",
    "plt.title(\"Route Similarity Matrix\")\n",
    "\n",
    "_test_routes = [r.path for r in routes_context.routes if r in test_sessions]\n",
    "\n",
    "plt.xticks(ticks=range(len(_test_routes)), labels=_test_routes, rotation=90)\n",
    "plt.yticks(ticks=range(len(_test_routes)), labels=_test_routes)\n",
    "\n",
    "plt.show()"
   ]
  }
 ],
 "metadata": {
  "kernelspec": {
   "display_name": ".venv",
   "language": "python",
   "name": "python3"
  },
  "language_info": {
   "codemirror_mode": {
    "name": "ipython",
    "version": 3
   },
   "file_extension": ".py",
   "mimetype": "text/x-python",
   "name": "python",
   "nbconvert_exporter": "python",
   "pygments_lexer": "ipython3",
   "version": "3.13.2"
  }
 },
 "nbformat": 4,
 "nbformat_minor": 2
}
