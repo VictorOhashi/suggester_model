{
 "cells": [
  {
   "cell_type": "code",
   "execution_count": 1,
   "metadata": {},
   "outputs": [],
   "source": [
    "import os\n",
    "import sys\n",
    "module_path = os.path.abspath(os.path.join('..'))\n",
    "if module_path not in sys.path:\n",
    "    sys.path.append(module_path)\n",
    "\n",
    "%load_ext dotenv\n",
    "%dotenv"
   ]
  },
  {
   "cell_type": "code",
   "execution_count": 2,
   "metadata": {},
   "outputs": [],
   "source": [
    "from notebooks.engines.sailor_data_engineer import RouteGenConfig, SailorDataEngineer\n",
    "\n",
    "_config = RouteGenConfig.from_env()\n",
    "engineer = SailorDataEngineer(_config, cache_key='vector_test', route_description=\"flight agency admin panel\")"
   ]
  },
  {
   "cell_type": "code",
   "execution_count": 3,
   "metadata": {},
   "outputs": [
    {
     "name": "stdout",
     "output_type": "stream",
     "text": [
      "=== SVCSailorEngine ===\n",
      "Accuracy: 0.85\n",
      "Precision: 0.88\n",
      "Recall: 0.85\n",
      "F1-Score: 0.85\n",
      "Top-5 Accuracy: 0.99\n",
      "NDCG-5: 0.94\n",
      "Inference time: 0.0012 s\n",
      "\n"
     ]
    }
   ],
   "source": [
    "from notebooks.engines.vector_test_engine import VectorTestEngine\n",
    "from sailor.route_vectorizer import TfidfRouteVectorizer\n",
    "from sailor.vector_sailor_engine import SVCSailorEngine\n",
    "\n",
    "_vectorizer = TfidfRouteVectorizer()\n",
    "svc_engine = VectorTestEngine(SVCSailorEngine(_vectorizer), engineer)\n",
    "\n",
    "await svc_engine.build()\n",
    "svc_engine.evaluate()"
   ]
  },
  {
   "cell_type": "code",
   "execution_count": 4,
   "metadata": {},
   "outputs": [
    {
     "name": "stdout",
     "output_type": "stream",
     "text": [
      "=== KNNSailorEngine ===\n",
      "Accuracy: 0.88\n",
      "Precision: 0.90\n",
      "Recall: 0.88\n",
      "F1-Score: 0.88\n",
      "Top-5 Accuracy: 0.99\n",
      "NDCG-5: 0.94\n",
      "Inference time: 0.0018 s\n",
      "\n"
     ]
    }
   ],
   "source": [
    "from notebooks.engines.vector_test_engine import VectorTestEngine\n",
    "from sailor.vector_sailor_engine import KNNSailorEngine\n",
    "\n",
    "_vectorizer = TfidfRouteVectorizer()\n",
    "knn_engine = VectorTestEngine(KNNSailorEngine(_vectorizer), engineer)\n",
    "\n",
    "await knn_engine.build()\n",
    "knn_engine.evaluate()"
   ]
  }
 ],
 "metadata": {
  "kernelspec": {
   "display_name": ".venv",
   "language": "python",
   "name": "python3"
  },
  "language_info": {
   "codemirror_mode": {
    "name": "ipython",
    "version": 3
   },
   "file_extension": ".py",
   "mimetype": "text/x-python",
   "name": "python",
   "nbconvert_exporter": "python",
   "pygments_lexer": "ipython3",
   "version": "3.11.9"
  }
 },
 "nbformat": 4,
 "nbformat_minor": 2
}
