{
 "cells": [
  {
   "cell_type": "code",
   "execution_count": 6,
   "metadata": {},
   "outputs": [
    {
     "name": "stdout",
     "output_type": "stream",
     "text": [
      "The dotenv extension is already loaded. To reload it, use:\n",
      "  %reload_ext dotenv\n"
     ]
    }
   ],
   "source": [
    "import os\n",
    "import sys\n",
    "module_path = os.path.abspath(os.path.join('..'))\n",
    "if module_path not in sys.path:\n",
    "    sys.path.append(module_path)\n",
    "\n",
    "%load_ext dotenv\n",
    "%dotenv"
   ]
  },
  {
   "cell_type": "code",
   "execution_count": null,
   "metadata": {},
   "outputs": [],
   "source": [
    "from notebooks.sailor_data_engineer import RouteGenConfig, SailorDataEngineer\n",
    "\n",
    "_config = RouteGenConfig.from_env()\n",
    "engineer = SailorDataEngineer(_config, cache_key='vector_test', route_description=\"flight agency admin panel\")"
   ]
  },
  {
   "cell_type": "code",
   "execution_count": 8,
   "metadata": {},
   "outputs": [
    {
     "name": "stdout",
     "output_type": "stream",
     "text": [
      "=== TfidfSailorEngine ===\n",
      "Accuracy: 0.06\n",
      "Precision: 0.04\n",
      "Recall: 0.06\n",
      "F1-Score: 0.05\n",
      "Top-5 Accuracy: 0.30\n",
      "NDCG-5: 0.18\n",
      "Inference time: 0.0013 s\n",
      "\n"
     ]
    }
   ],
   "source": [
    "from notebooks.vector_test_engine import VectorTestEngine\n",
    "from sailor.vector_sailor_engine import TfidfSailorEngine\n",
    "\n",
    "tfidf_engine = VectorTestEngine(TfidfSailorEngine(), engineer)\n",
    "\n",
    "await tfidf_engine.build()\n",
    "tfidf_engine.evaluate()"
   ]
  },
  {
   "cell_type": "code",
   "execution_count": 9,
   "metadata": {},
   "outputs": [
    {
     "name": "stdout",
     "output_type": "stream",
     "text": [
      "=== SVCSailorEngine ===\n",
      "Accuracy: 0.73\n",
      "Precision: 0.75\n",
      "Recall: 0.73\n",
      "F1-Score: 0.73\n",
      "Top-5 Accuracy: 0.94\n",
      "NDCG-5: 0.84\n",
      "Inference time: 0.0013 s\n",
      "\n"
     ]
    }
   ],
   "source": [
    "from notebooks.vector_test_engine import VectorTestEngine\n",
    "from sailor.vector_sailor_engine import SVCSailorEngine\n",
    "\n",
    "svc_engine = VectorTestEngine(SVCSailorEngine(), engineer)\n",
    "\n",
    "await svc_engine.build()\n",
    "svc_engine.evaluate()"
   ]
  },
  {
   "cell_type": "code",
   "execution_count": 10,
   "metadata": {},
   "outputs": [
    {
     "name": "stdout",
     "output_type": "stream",
     "text": [
      "=== KNNSailorEngine ===\n",
      "Accuracy: 0.78\n",
      "Precision: 0.81\n",
      "Recall: 0.78\n",
      "F1-Score: 0.78\n",
      "Top-5 Accuracy: 0.87\n",
      "NDCG-5: 0.83\n",
      "Inference time: 0.0015 s\n",
      "\n"
     ]
    }
   ],
   "source": [
    "from notebooks.vector_test_engine import VectorTestEngine\n",
    "from sailor.vector_sailor_engine import KNNSailorEngine\n",
    "\n",
    "knn_engine = VectorTestEngine(KNNSailorEngine(), engineer)\n",
    "\n",
    "await knn_engine.build()\n",
    "knn_engine.evaluate()"
   ]
  }
 ],
 "metadata": {
  "kernelspec": {
   "display_name": ".venv",
   "language": "python",
   "name": "python3"
  },
  "language_info": {
   "codemirror_mode": {
    "name": "ipython",
    "version": 3
   },
   "file_extension": ".py",
   "mimetype": "text/x-python",
   "name": "python",
   "nbconvert_exporter": "python",
   "pygments_lexer": "ipython3",
   "version": "3.12.7"
  }
 },
 "nbformat": 4,
 "nbformat_minor": 2
}
