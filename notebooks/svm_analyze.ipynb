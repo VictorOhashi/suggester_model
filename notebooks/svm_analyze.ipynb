{
 "cells": [
  {
   "cell_type": "markdown",
   "metadata": {},
   "source": [
    "# Support vector machine (SVM)"
   ]
  },
  {
   "cell_type": "code",
   "execution_count": 1,
   "metadata": {},
   "outputs": [],
   "source": [
    "import os\n",
    "import sys\n",
    "module_path = os.path.abspath(os.path.join('..'))\n",
    "if module_path not in sys.path:\n",
    "    sys.path.append(module_path)\n",
    "\n",
    "%load_ext dotenv\n",
    "%dotenv"
   ]
  },
  {
   "cell_type": "code",
   "execution_count": 2,
   "metadata": {},
   "outputs": [],
   "source": [
    "from notebooks.vector_test_engine import VectorTestEngine\n",
    "from sailor.vector_sailor_engine import SVCSailorEngine\n",
    "\n",
    "test_engine = VectorTestEngine(SVCSailorEngine())\n",
    "\n",
    "await test_engine.build(context=\"flight agency\", cache_key=\"flight_agency\")"
   ]
  },
  {
   "cell_type": "code",
   "execution_count": 3,
   "metadata": {},
   "outputs": [
    {
     "name": "stdout",
     "output_type": "stream",
     "text": [
      "Query: 'Saved confirmation to calendar'; Expected route: /confirmation/{bookingId};\n",
      "Results (2.04ms):\n",
      "- /confirmation/{bookingId} (score: 0.603)\n",
      "- /payment (score: 0.340)\n",
      "- /flight-search (score: 0.313)\n",
      "- /customer-support (score: 0.308)\n",
      "- /homepage (score: 0.305)\n",
      "Query: 'Downloaded mobile app'; Expected route: /confirmation/{bookingId};\n",
      "Results (1.53ms):\n",
      "- /payment (score: 0.355)\n",
      "- /about-us (score: 0.351)\n",
      "- /homepage (score: 0.351)\n",
      "- /confirmation/{bookingId} (score: 0.350)\n",
      "- /user/profile (score: 0.350)\n",
      "Query: 'One way flight to Tokyo'; Expected route: /flight-search;\n",
      "Results (1.53ms):\n",
      "- /manage-booking (score: 0.452)\n",
      "- /flight-details/{flightId} (score: 0.446)\n",
      "- /flight-search (score: 0.381)\n",
      "- /about-us (score: 0.320)\n",
      "- /payment (score: 0.299)\n",
      "Query: 'Started a live chat session'; Expected route: /customer-support;\n",
      "Results (1.53ms):\n",
      "- /payment (score: 0.355)\n",
      "- /about-us (score: 0.351)\n",
      "- /homepage (score: 0.351)\n",
      "- /confirmation/{bookingId} (score: 0.350)\n",
      "- /user/profile (score: 0.350)\n",
      "Query: 'Submitted a support ticket'; Expected route: /customer-support;\n",
      "Results (1.52ms):\n",
      "- /payment (score: 0.355)\n",
      "- /about-us (score: 0.351)\n",
      "- /homepage (score: 0.351)\n",
      "- /confirmation/{bookingId} (score: 0.350)\n",
      "- /user/profile (score: 0.350)\n",
      "Query: 'Linked social media account'; Expected route: /user/profile;\n",
      "Results (1.52ms):\n",
      "- /payment (score: 0.355)\n",
      "- /about-us (score: 0.351)\n",
      "- /homepage (score: 0.351)\n",
      "- /confirmation/{bookingId} (score: 0.350)\n",
      "- /user/profile (score: 0.350)\n",
      "Query: 'Proceeded to booking page after reviewing details'; Expected route: /booking/{flightId};\n",
      "Results (1.52ms):\n",
      "- /booking/{flightId} (score: 0.469)\n",
      "- /about-us (score: 0.357)\n",
      "- /flight-details/{flightId} (score: 0.356)\n",
      "- /manage-booking (score: 0.306)\n",
      "- /deals (score: 0.302)\n",
      "Query: 'Selected meal preference'; Expected route: /booking/{flightId};\n",
      "Results (1.53ms):\n",
      "- /payment (score: 0.405)\n",
      "- /flight-details/{flightId} (score: 0.387)\n",
      "- /homepage (score: 0.340)\n",
      "- /about-us (score: 0.335)\n",
      "- /manage-booking (score: 0.333)\n",
      "Query: 'Shared booking details on social media'; Expected route: /confirmation/{bookingId};\n",
      "Results (2.07ms):\n",
      "- /booking/{flightId} (score: 0.491)\n",
      "- /flight-details/{flightId} (score: 0.391)\n",
      "- /manage-booking (score: 0.336)\n",
      "- /homepage (score: 0.321)\n",
      "- /confirmation/{bookingId} (score: 0.309)\n",
      "Query: 'Looking for business class flights to Dubai'; Expected route: /flight-search;\n",
      "Results (1.53ms):\n",
      "- /flight-search (score: 0.446)\n",
      "- /deals (score: 0.408)\n",
      "- /manage-booking (score: 0.351)\n",
      "- /customer-support (score: 0.346)\n",
      "- /payment (score: 0.322)\n",
      "Query: 'Navigated to flight deals page'; Expected route: /deals;\n",
      "Results (1.52ms):\n",
      "- /about-us (score: 0.496)\n",
      "- /flight-details/{flightId} (score: 0.357)\n",
      "- /manage-booking (score: 0.347)\n",
      "- /customer-support (score: 0.325)\n",
      "- /flight-search (score: 0.306)\n",
      "Query: 'Added deal to wishlist'; Expected route: /deals;\n",
      "Results (1.01ms):\n",
      "- /manage-booking (score: 0.371)\n",
      "- /booking/{flightId} (score: 0.359)\n",
      "- /user/profile (score: 0.344)\n",
      "- /confirmation/{bookingId} (score: 0.338)\n",
      "- /payment (score: 0.338)\n"
     ]
    }
   ],
   "source": [
    "test_engine.test()"
   ]
  },
  {
   "cell_type": "code",
   "execution_count": 4,
   "metadata": {},
   "outputs": [
    {
     "data": {
      "image/png": "[encoded data removed]",
      "text/plain": [
       "<Figure size 1000x800 with 2 Axes>"
      ]
     },
     "metadata": {},
     "output_type": "display_data"
    }
   ],
   "source": [
    "test_engine.analyze()"
   ]
  }
 ],
 "metadata": {
  "kernelspec": {
   "display_name": ".venv",
   "language": "python",
   "name": "python3"
  },
  "language_info": {
   "codemirror_mode": {
    "name": "ipython",
    "version": 3
   },
   "file_extension": ".py",
   "mimetype": "text/x-python",
   "name": "python",
   "nbconvert_exporter": "python",
   "pygments_lexer": "ipython3",
   "version": "3.11.9"
  }
 },
 "nbformat": 4,
 "nbformat_minor": 2
}
