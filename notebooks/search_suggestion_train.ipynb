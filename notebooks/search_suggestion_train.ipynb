{
 "cells": [
  {
   "cell_type": "code",
   "execution_count": 1,
   "metadata": {},
   "outputs": [],
   "source": [
    "import os\n",
    "import sys\n",
    "module_path = os.path.abspath(os.path.join('..'))\n",
    "if module_path not in sys.path:\n",
    "    sys.path.append(module_path)\n",
    "\n",
    "%load_ext dotenv\n",
    "%dotenv\n",
    "\n",
    "import pandas as pd\n",
    "import suggester as suggester"
   ]
  },
  {
   "cell_type": "markdown",
   "metadata": {},
   "source": [
    "## 1. Preparing synthetic data"
   ]
  },
  {
   "cell_type": "code",
   "execution_count": 4,
   "metadata": {},
   "outputs": [],
   "source": [
    "_config = suggester.SearchConfig(\n",
    "  api_key=os.getenv(\"OPENAI_API_KEY\"),\n",
    "  cache_dir=\"../build/cache\",\n",
    ")\n",
    "engineer = suggester.SearchDataEngineer(_config)"
   ]
  },
  {
   "cell_type": "code",
   "execution_count": 5,
   "metadata": {},
   "outputs": [
    {
     "data": {
      "text/html": [
       "<div>\n",
       "<style scoped>\n",
       "    .dataframe tbody tr th:only-of-type {\n",
       "        vertical-align: middle;\n",
       "    }\n",
       "\n",
       "    .dataframe tbody tr th {\n",
       "        vertical-align: top;\n",
       "    }\n",
       "\n",
       "    .dataframe thead th {\n",
       "        text-align: right;\n",
       "    }\n",
       "</style>\n",
       "<table border=\"1\" class=\"dataframe\">\n",
       "  <thead>\n",
       "    <tr style=\"text-align: right;\">\n",
       "      <th></th>\n",
       "      <th>id</th>\n",
       "      <th>route_id</th>\n",
       "      <th>last_date</th>\n",
       "      <th>time_spent</th>\n",
       "      <th>intention_context</th>\n",
       "    </tr>\n",
       "  </thead>\n",
       "  <tbody>\n",
       "    <tr>\n",
       "      <th>0</th>\n",
       "      <td>b1f2e3f4-5e6d-4c7a-b8d9-e2f4f5a6b7c8</td>\n",
       "      <td>1ecb1f2f-7ad0-4c4e-bd45-d20c6f13f96e</td>\n",
       "      <td>2023-10-01</td>\n",
       "      <td>1500000</td>\n",
       "      <td>User is exploring different travel destinations.</td>\n",
       "    </tr>\n",
       "    <tr>\n",
       "      <th>1</th>\n",
       "      <td>c1d2e3f4-6f7e-4a8b-b9c0-f3f4g5h6i7j8</td>\n",
       "      <td>4b0b5d9e-7590-4c62-bc11-5e3fcb69d7a3</td>\n",
       "      <td>2023-10-04</td>\n",
       "      <td>2000000</td>\n",
       "      <td>User is looking for travel packages.</td>\n",
       "    </tr>\n",
       "    <tr>\n",
       "      <th>2</th>\n",
       "      <td>d1e2f3a4-7b8c-4d9e-b0a1-h2i3j4k5l6m7</td>\n",
       "      <td>6e4d24c9-6f9e-4b5d-b3d7-96e0d5f2d64c</td>\n",
       "      <td>2023-10-07</td>\n",
       "      <td>1200000</td>\n",
       "      <td>User is booking a travel package.</td>\n",
       "    </tr>\n",
       "  </tbody>\n",
       "</table>\n",
       "</div>"
      ],
      "text/plain": [
       "                                     id                              route_id  \\\n",
       "0  b1f2e3f4-5e6d-4c7a-b8d9-e2f4f5a6b7c8  1ecb1f2f-7ad0-4c4e-bd45-d20c6f13f96e   \n",
       "1  c1d2e3f4-6f7e-4a8b-b9c0-f3f4g5h6i7j8  4b0b5d9e-7590-4c62-bc11-5e3fcb69d7a3   \n",
       "2  d1e2f3a4-7b8c-4d9e-b0a1-h2i3j4k5l6m7  6e4d24c9-6f9e-4b5d-b3d7-96e0d5f2d64c   \n",
       "\n",
       "    last_date  time_spent                                 intention_context  \n",
       "0  2023-10-01     1500000  User is exploring different travel destinations.  \n",
       "1  2023-10-04     2000000              User is looking for travel packages.  \n",
       "2  2023-10-07     1200000                 User is booking a travel package.  "
      ]
     },
     "execution_count": 5,
     "metadata": {},
     "output_type": "execute_result"
    }
   ],
   "source": [
    "_routes, _sessions = await engineer.generate_data(route_context=\"travel agency\", route_count=10)\n",
    "\n",
    "routes_data = pd.DataFrame([route.model_dump() for route in _routes])\n",
    "routes_data.head()\n",
    "\n",
    "sessions_data = pd.DataFrame([session.model_dump() for session in _sessions])\n",
    "sessions_data.head()"
   ]
  },
  {
   "cell_type": "code",
   "execution_count": null,
   "metadata": {},
   "outputs": [],
   "source": []
  }
 ],
 "metadata": {
  "kernelspec": {
   "display_name": ".venv",
   "language": "python",
   "name": "python3"
  },
  "language_info": {
   "codemirror_mode": {
    "name": "ipython",
    "version": 3
   },
   "file_extension": ".py",
   "mimetype": "text/x-python",
   "name": "python",
   "nbconvert_exporter": "python",
   "pygments_lexer": "ipython3",
   "version": "3.13.0"
  }
 },
 "nbformat": 4,
 "nbformat_minor": 2
}
