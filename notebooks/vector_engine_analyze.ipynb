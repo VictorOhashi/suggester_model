{
 "cells": [
  {
   "cell_type": "code",
   "execution_count": 4,
   "metadata": {},
   "outputs": [
    {
     "name": "stdout",
     "output_type": "stream",
     "text": [
      "The dotenv extension is already loaded. To reload it, use:\n",
      "  %reload_ext dotenv\n"
     ]
    }
   ],
   "source": [
    "import os\n",
    "import sys\n",
    "module_path = os.path.abspath(os.path.join('..'))\n",
    "if module_path not in sys.path:\n",
    "    sys.path.append(module_path)\n",
    "\n",
    "%load_ext dotenv\n",
    "%dotenv"
   ]
  },
  {
   "cell_type": "code",
   "execution_count": 5,
   "metadata": {},
   "outputs": [],
   "source": [
    "from sailor.sailor_data_engineer import RouteGenConfig, SailorDataEngineer\n",
    "\n",
    "_config = RouteGenConfig.from_env()\n",
    "engineer = SailorDataEngineer(_config, cache_key='vector_test', route_context=\"flight agency admin panel\")"
   ]
  },
  {
   "cell_type": "code",
   "execution_count": 6,
   "metadata": {},
   "outputs": [
    {
     "name": "stdout",
     "output_type": "stream",
     "text": [
      "=== TfidfSailorEngine ===\n",
      "Accuracy: 0.10\n",
      "Precision: 0.14\n",
      "Recall: 0.10\n",
      "F1-Score: 0.11\n",
      "Top-5 Accuracy: 0.51\n",
      "NDCG-5: 0.35\n",
      "Inference time: 0.0009 s\n",
      "\n"
     ]
    }
   ],
   "source": [
    "from notebooks.vector_test_engine import VectorTestEngine\n",
    "from sailor.vector_sailor_engine import TfidfSailorEngine\n",
    "\n",
    "tfidf_engine = VectorTestEngine(TfidfSailorEngine(), engineer)\n",
    "\n",
    "await tfidf_engine.build()\n",
    "tfidf_engine.evaluate()"
   ]
  },
  {
   "cell_type": "code",
   "execution_count": 7,
   "metadata": {},
   "outputs": [
    {
     "name": "stdout",
     "output_type": "stream",
     "text": [
      "=== SVCSailorEngine ===\n",
      "Accuracy: 0.83\n",
      "Precision: 0.86\n",
      "Recall: 0.83\n",
      "F1-Score: 0.83\n",
      "Top-5 Accuracy: 0.96\n",
      "NDCG-5: 0.90\n",
      "Inference time: 0.0011 s\n",
      "\n"
     ]
    }
   ],
   "source": [
    "from notebooks.vector_test_engine import VectorTestEngine\n",
    "from sailor.vector_sailor_engine import SVCSailorEngine\n",
    "\n",
    "svc_engine = VectorTestEngine(SVCSailorEngine(), engineer)\n",
    "\n",
    "await svc_engine.build()\n",
    "svc_engine.evaluate()"
   ]
  },
  {
   "cell_type": "code",
   "execution_count": 8,
   "metadata": {},
   "outputs": [
    {
     "name": "stdout",
     "output_type": "stream",
     "text": [
      "=== KNNSailorEngine ===\n",
      "Accuracy: 0.85\n",
      "Precision: 0.89\n",
      "Recall: 0.85\n",
      "F1-Score: 0.85\n",
      "Top-5 Accuracy: 0.99\n",
      "NDCG-5: 0.90\n",
      "Inference time: 0.0010 s\n",
      "\n"
     ]
    }
   ],
   "source": [
    "from notebooks.vector_test_engine import VectorTestEngine\n",
    "from sailor.vector_sailor_engine import KNNSailorEngine\n",
    "\n",
    "knn_engine = VectorTestEngine(KNNSailorEngine(), engineer)\n",
    "\n",
    "await knn_engine.build()\n",
    "knn_engine.evaluate()"
   ]
  }
 ],
 "metadata": {
  "kernelspec": {
   "display_name": ".venv",
   "language": "python",
   "name": "python3"
  },
  "language_info": {
   "codemirror_mode": {
    "name": "ipython",
    "version": 3
   },
   "file_extension": ".py",
   "mimetype": "text/x-python",
   "name": "python",
   "nbconvert_exporter": "python",
   "pygments_lexer": "ipython3",
   "version": "3.13.2"
  }
 },
 "nbformat": 4,
 "nbformat_minor": 2
}
