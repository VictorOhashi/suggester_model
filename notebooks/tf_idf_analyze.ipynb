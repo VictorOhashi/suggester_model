{
 "cells": [
  {
   "cell_type": "markdown",
   "metadata": {},
   "source": [
    "# Term frequency - Inverse document frequency (TF-IDF)"
   ]
  },
  {
   "cell_type": "markdown",
   "metadata": {},
   "source": [
    "## 1. Setup project\n",
    "\n",
    "### 1.1. Environment setup"
   ]
  },
  {
   "cell_type": "code",
   "execution_count": 8,
   "metadata": {},
   "outputs": [
    {
     "name": "stdout",
     "output_type": "stream",
     "text": [
      "The dotenv extension is already loaded. To reload it, use:\n",
      "  %reload_ext dotenv\n"
     ]
    }
   ],
   "source": [
    "import os\n",
    "import sys\n",
    "module_path = os.path.abspath(os.path.join('..'))\n",
    "if module_path not in sys.path:\n",
    "    sys.path.append(module_path)\n",
    "\n",
    "%load_ext dotenv\n",
    "%dotenv"
   ]
  },
  {
   "cell_type": "markdown",
   "metadata": {},
   "source": [
    "### 1.2. Build train data"
   ]
  },
  {
   "cell_type": "code",
   "execution_count": 9,
   "metadata": {},
   "outputs": [],
   "source": [
    "from sailor import SailorDataEngineer, RouteGenConfig\n",
    "\n",
    "_config = RouteGenConfig(\n",
    "  api_key=os.getenv(\"AI_API_KEY\"),\n",
    "  model=os.getenv(\"AI_MODEL\"),\n",
    "  base_url=os.getenv(\"AI_MODEL_URL\"),\n",
    "  cache_dir=\"../build/cache\")\n",
    "_engineer = SailorDataEngineer(_config)\n",
    "\n",
    "_route_context = \"flight agency\"\n",
    "routes_context = await _engineer.generate_data(route_context=_route_context, cache_key=\"train_flight_agency\")"
   ]
  },
  {
   "cell_type": "markdown",
   "metadata": {},
   "source": [
    "### 1.3. Train test split"
   ]
  },
  {
   "cell_type": "code",
   "execution_count": 10,
   "metadata": {},
   "outputs": [],
   "source": [
    "from sailor import NavigationContext\n",
    "from sklearn.model_selection import train_test_split\n",
    "\n",
    "_train_sessions, _test_sessions = train_test_split(routes_context.sessions, test_size=0.2)\n",
    "\n",
    "train_context = NavigationContext(routes=routes_context.routes, sessions=_train_sessions)"
   ]
  },
  {
   "cell_type": "markdown",
   "metadata": {},
   "source": [
    "## 2. Setup model\n",
    " "
   ]
  },
  {
   "cell_type": "code",
   "execution_count": 11,
   "metadata": {},
   "outputs": [],
   "source": [
    "import numpy as np\n",
    "from sailor import RouteVectorizer\n",
    "from sklearn.metrics.pairwise import cosine_similarity\n",
    "\n",
    "vectorizer = RouteVectorizer()\n",
    "vectorizer.fit(train_context)\n",
    "\n",
    "def recommend_route(query: str, top_n=3):\n",
    "    query_vec = vectorizer.transform(query)\n",
    "    scores = cosine_similarity(query_vec, vectorizer.route_vectors).flatten()\n",
    "    sorted_indices = np.argsort(scores)[::-1][:top_n]\n",
    "\n",
    "    return [(vectorizer.inverse_transform(i), scores[i]) for i in sorted_indices]"
   ]
  },
  {
   "cell_type": "markdown",
   "metadata": {},
   "source": [
    "## 3. Validate vectorizer \n",
    "\n",
    "### 3.1. Test vectorizer"
   ]
  },
  {
   "cell_type": "code",
   "execution_count": 12,
   "metadata": {},
   "outputs": [
    {
     "name": "stdout",
     "output_type": "stream",
     "text": [
      "Query: 'User looking for flights from Atlanta to Orlando'; Expected route: route-1 | /flights/search;\n",
      "Results (0.85ms):\n",
      "- route-1 | /flights/search (score: 0.534)\n",
      "- route-10 | /flights/privacy (score: 0.149)\n",
      "- route-5 | /flights/refund (score: 0.148)\n",
      "Query: 'User searching for flights from New York to Los Angeles'; Expected route: route-1 | /flights/search;\n",
      "Results (0.58ms):\n",
      "- route-1 | /flights/search (score: 0.438)\n",
      "- route-5 | /flights/refund (score: 0.214)\n",
      "- route-7 | /flights/profile (score: 0.178)\n",
      "Query: 'User clicked on 'Check Refund Status' link'; Expected route: route-5 | /flights/refund;\n",
      "Results (0.54ms):\n",
      "- route-4 | /flights/status (score: 0.648)\n",
      "- route-3 | /flights/deals (score: 0.499)\n",
      "- route-6 | /flights/faq (score: 0.227)\n",
      "Query: 'User searching for deals to Hawaii'; Expected route: route-3 | /flights/deals;\n",
      "Results (0.52ms):\n",
      "- route-2 | /flights/manage (score: 0.908)\n",
      "- route-5 | /flights/refund (score: 0.235)\n",
      "- route-7 | /flights/profile (score: 0.208)\n",
      "Query: 'User clicked on 'View Booking History' link'; Expected route: route-7 | /flights/profile;\n",
      "Results (0.52ms):\n",
      "- route-10 | /flights/privacy (score: 0.330)\n",
      "- route-6 | /flights/faq (score: 0.327)\n",
      "- route-4 | /flights/status (score: 0.252)\n",
      "Query: 'User looking for flights from Phoenix to Las Vegas'; Expected route: route-1 | /flights/search;\n",
      "Results (0.52ms):\n",
      "- route-1 | /flights/search (score: 0.534)\n",
      "- route-10 | /flights/privacy (score: 0.149)\n",
      "- route-5 | /flights/refund (score: 0.148)\n",
      "Query: 'User searching for information about pet travel policy'; Expected route: route-6 | /flights/faq;\n",
      "Results (0.50ms):\n",
      "- route-9 | /flights/terms (score: 0.518)\n",
      "- route-5 | /flights/refund (score: 0.434)\n",
      "- route-8 | /flights/contact (score: 0.365)\n",
      "Query: 'User searching for information about data encryption'; Expected route: route-10 | /flights/privacy;\n",
      "Results (0.51ms):\n",
      "- route-9 | /flights/terms (score: 0.727)\n",
      "- route-5 | /flights/refund (score: 0.401)\n",
      "- route-8 | /flights/contact (score: 0.337)\n",
      "Query: 'User searching for refund policies'; Expected route: route-5 | /flights/refund;\n",
      "Results (0.50ms):\n",
      "- route-4 | /flights/status (score: 0.766)\n",
      "- route-5 | /flights/refund (score: 0.235)\n",
      "- route-7 | /flights/profile (score: 0.208)\n",
      "Query: 'User clicked on 'Contact Refund Department' link'; Expected route: route-5 | /flights/refund;\n",
      "Results (0.50ms):\n",
      "- route-4 | /flights/status (score: 0.683)\n",
      "- route-7 | /flights/profile (score: 0.385)\n",
      "- route-6 | /flights/faq (score: 0.308)\n",
      "Query: 'User searching for contact form'; Expected route: route-8 | /flights/contact;\n",
      "Results (0.49ms):\n",
      "- route-7 | /flights/profile (score: 0.687)\n",
      "- route-5 | /flights/refund (score: 0.261)\n",
      "- route-8 | /flights/contact (score: 0.211)\n",
      "Query: 'User looking for flights from Seattle to Boston'; Expected route: route-1 | /flights/search;\n",
      "Results (0.50ms):\n",
      "- route-1 | /flights/search (score: 0.534)\n",
      "- route-10 | /flights/privacy (score: 0.149)\n",
      "- route-5 | /flights/refund (score: 0.148)\n",
      "Query: 'User searching for information about data retention'; Expected route: route-9 | /flights/terms;\n",
      "Results (0.49ms):\n",
      "- route-9 | /flights/terms (score: 0.727)\n",
      "- route-5 | /flights/refund (score: 0.401)\n",
      "- route-8 | /flights/contact (score: 0.337)\n"
     ]
    }
   ],
   "source": [
    "import time\n",
    "\n",
    "def _test_query(query):\n",
    "    start_time = time.time()\n",
    "    results = recommend_route(query)\n",
    "    latency = (time.time() - start_time)*1000\n",
    "    print(f\"Results ({latency:.2f}ms):\")\n",
    "\n",
    "    for route, score in results:\n",
    "        print(f\"- {route.id} | {route.path} (score: {score:.3f})\")\n",
    "\n",
    "for session in _test_sessions:\n",
    "    for route in routes_context.routes:\n",
    "        if route.id == session.route_id:\n",
    "            break\n",
    "\n",
    "    query = session.intention.context\n",
    "    print(f\"Query: '{query}'; Expected route: {route.id} | {route.path};\")\n",
    "    _test_query(query)"
   ]
  },
  {
   "cell_type": "markdown",
   "metadata": {},
   "source": [
    "### 3.2. Analyze size"
   ]
  },
  {
   "cell_type": "code",
   "execution_count": 13,
   "metadata": {},
   "outputs": [
    {
     "name": "stdout",
     "output_type": "stream",
     "text": [
      "Vocabulary size: 91\n",
      "Vector size: 48\n"
     ]
    }
   ],
   "source": [
    "print(\"Vocabulary size:\", len(vectorizer._vectorizer.vocabulary_))\n",
    "print(\"Vector size:\", sys.getsizeof(vectorizer.route_vectors))\n"
   ]
  },
  {
   "cell_type": "markdown",
   "metadata": {},
   "source": [
    "### 3.2. Analyze route similarity"
   ]
  },
  {
   "cell_type": "code",
   "execution_count": 14,
   "metadata": {},
   "outputs": [
    {
     "data": {
      "image/png": "[encoded data removed]",
      "text/plain": [
       "<Figure size 1000x800 with 2 Axes>"
      ]
     },
     "metadata": {},
     "output_type": "display_data"
    }
   ],
   "source": [
    "import matplotlib.pyplot as plt\n",
    "from sklearn.metrics.pairwise import cosine_similarity\n",
    "\n",
    "similarity_matrix = cosine_similarity(vectorizer.route_vectors)\n",
    "plt.figure(figsize=(10, 8))\n",
    "plt.imshow(similarity_matrix, cmap=\"Blues\")\n",
    "plt.colorbar(label=\"Similarity Score\")\n",
    "plt.title(\"Route Similarity Matrix\")\n",
    "\n",
    "_test_routes = [r.path for r in routes_context.routes if r in _test_sessions]\n",
    "\n",
    "plt.xticks(ticks=range(len(_test_routes)), labels=_test_routes, rotation=90)\n",
    "plt.yticks(ticks=range(len(_test_routes)), labels=_test_routes)\n",
    "\n",
    "plt.show()"
   ]
  }
 ],
 "metadata": {
  "kernelspec": {
   "display_name": ".venv",
   "language": "python",
   "name": "python3"
  },
  "language_info": {
   "codemirror_mode": {
    "name": "ipython",
    "version": 3
   },
   "file_extension": ".py",
   "mimetype": "text/x-python",
   "name": "python",
   "nbconvert_exporter": "python",
   "pygments_lexer": "ipython3",
   "version": "3.13.0"
  }
 },
 "nbformat": 4,
 "nbformat_minor": 2
}
