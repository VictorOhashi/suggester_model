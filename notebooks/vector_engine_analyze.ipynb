{
 "cells": [
  {
   "cell_type": "code",
   "execution_count": 7,
   "metadata": {},
   "outputs": [
    {
     "name": "stdout",
     "output_type": "stream",
     "text": [
      "The dotenv extension is already loaded. To reload it, use:\n",
      "  %reload_ext dotenv\n"
     ]
    }
   ],
   "source": [
    "import os\n",
    "import sys\n",
    "module_path = os.path.abspath(os.path.join('..'))\n",
    "if module_path not in sys.path:\n",
    "    sys.path.append(module_path)\n",
    "\n",
    "%load_ext dotenv\n",
    "%dotenv"
   ]
  },
  {
   "cell_type": "code",
   "execution_count": 8,
   "metadata": {},
   "outputs": [],
   "source": [
    "from notebooks.engines.sailor_data_engineer import RouteGenConfig, SailorDataEngineer\n",
    "\n",
    "_config = RouteGenConfig.from_env()\n",
    "engineer = SailorDataEngineer(_config, cache_key='vector_test', route_description=\"flight agency admin panel\")"
   ]
  },
  {
   "cell_type": "code",
   "execution_count": 9,
   "metadata": {},
   "outputs": [
    {
     "name": "stdout",
     "output_type": "stream",
     "text": [
      "=== SVCSailorEngine ===\n",
      "Accuracy: 0.85\n",
      "Precision: 0.88\n",
      "Recall: 0.85\n",
      "F1-Score: 0.85\n",
      "Top-5 Accuracy: 0.99\n",
      "NDCG-5: 0.94\n",
      "Inference time: 0.0013 s\n",
      "\n"
     ]
    }
   ],
   "source": [
    "from notebooks.engines.vector_test_engine import VectorTestEngine\n",
    "from sailor import SVCSailorEngine, TfidfRouteVectorizer\n",
    "\n",
    "_vectorizer = TfidfRouteVectorizer()\n",
    "svc_tfidf_engine = VectorTestEngine(SVCSailorEngine(_vectorizer), engineer)\n",
    "\n",
    "await svc_tfidf_engine.build()\n",
    "svc_tfidf_engine.evaluate()"
   ]
  },
  {
   "cell_type": "code",
   "execution_count": 10,
   "metadata": {},
   "outputs": [
    {
     "name": "stdout",
     "output_type": "stream",
     "text": [
      "=== KNNSailorEngine ===\n",
      "Accuracy: 0.88\n",
      "Precision: 0.90\n",
      "Recall: 0.88\n",
      "F1-Score: 0.88\n",
      "Top-5 Accuracy: 0.99\n",
      "NDCG-5: 0.94\n",
      "Inference time: 0.0021 s\n",
      "\n"
     ]
    }
   ],
   "source": [
    "from notebooks.engines.vector_test_engine import VectorTestEngine\n",
    "from sailor import KNNSailorEngine, TfidfRouteVectorizer\n",
    "\n",
    "_vectorizer = TfidfRouteVectorizer()\n",
    "knn_tfidf_engine = VectorTestEngine(KNNSailorEngine(_vectorizer), engineer)\n",
    "\n",
    "await knn_tfidf_engine.build()\n",
    "knn_tfidf_engine.evaluate()"
   ]
  }
 ],
 "metadata": {
  "kernelspec": {
   "display_name": ".venv",
   "language": "python",
   "name": "python3"
  },
  "language_info": {
   "codemirror_mode": {
    "name": "ipython",
    "version": 3
   },
   "file_extension": ".py",
   "mimetype": "text/x-python",
   "name": "python",
   "nbconvert_exporter": "python",
   "pygments_lexer": "ipython3",
   "version": "3.11.9"
  }
 },
 "nbformat": 4,
 "nbformat_minor": 2
}
