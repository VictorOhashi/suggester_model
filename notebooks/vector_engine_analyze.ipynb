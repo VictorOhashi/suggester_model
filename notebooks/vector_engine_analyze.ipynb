{
 "cells": [
  {
   "cell_type": "code",
   "execution_count": 5,
   "metadata": {},
   "outputs": [
    {
     "name": "stdout",
     "output_type": "stream",
     "text": [
      "The dotenv extension is already loaded. To reload it, use:\n",
      "  %reload_ext dotenv\n"
     ]
    }
   ],
   "source": [
    "import os\n",
    "import sys\n",
    "module_path = os.path.abspath(os.path.join('..'))\n",
    "if module_path not in sys.path:\n",
    "    sys.path.append(module_path)\n",
    "\n",
    "%load_ext dotenv\n",
    "%dotenv"
   ]
  },
  {
   "cell_type": "code",
   "execution_count": 6,
   "metadata": {},
   "outputs": [
    {
     "name": "stdout",
     "output_type": "stream",
     "text": [
      "=== TfidfSailorEngine ===\n",
      "Accuracy: 0.06\n",
      "Precision: 0.05\n",
      "Recall: 0.06\n",
      "F1-Score: 0.06\n",
      "Inference time: 0.0015 s\n",
      "\n"
     ]
    }
   ],
   "source": [
    "from notebooks.vector_test_engine import VectorTestEngine\n",
    "from sailor.vector_sailor_engine import TfidfSailorEngine\n",
    "\n",
    "tfidf_engine = VectorTestEngine(TfidfSailorEngine())\n",
    "\n",
    "await tfidf_engine.build(context=\"flight agency\")\n",
    "tfidf_engine.evaluate()"
   ]
  },
  {
   "cell_type": "code",
   "execution_count": 7,
   "metadata": {},
   "outputs": [
    {
     "name": "stdout",
     "output_type": "stream",
     "text": [
      "=== SVCSailorEngine ===\n",
      "Accuracy: 0.00\n",
      "Precision: 0.00\n",
      "Recall: 0.00\n",
      "F1-Score: 0.00\n",
      "Inference time: 0.0013 s\n",
      "\n"
     ]
    }
   ],
   "source": [
    "from notebooks.vector_test_engine import VectorTestEngine\n",
    "from sailor.vector_sailor_engine import SVCSailorEngine\n",
    "\n",
    "svc_engine = VectorTestEngine(SVCSailorEngine())\n",
    "\n",
    "await svc_engine.build(context=\"flight agency\")\n",
    "svc_engine.evaluate()"
   ]
  },
  {
   "cell_type": "code",
   "execution_count": 8,
   "metadata": {},
   "outputs": [
    {
     "name": "stdout",
     "output_type": "stream",
     "text": [
      "=== KNNSailorEngine ===\n",
      "Accuracy: 0.75\n",
      "Precision: 0.76\n",
      "Recall: 0.75\n",
      "F1-Score: 0.74\n",
      "Inference time: 0.0017 s\n",
      "\n"
     ]
    }
   ],
   "source": [
    "from notebooks.vector_test_engine import VectorTestEngine\n",
    "from sailor.vector_sailor_engine import KNNSailorEngine\n",
    "\n",
    "knn_engine = VectorTestEngine(KNNSailorEngine())\n",
    "\n",
    "await knn_engine.build(context=\"flight agency\")\n",
    "knn_engine.evaluate()"
   ]
  }
 ],
 "metadata": {
  "kernelspec": {
   "display_name": ".venv",
   "language": "python",
   "name": "python3"
  },
  "language_info": {
   "codemirror_mode": {
    "name": "ipython",
    "version": 3
   },
   "file_extension": ".py",
   "mimetype": "text/x-python",
   "name": "python",
   "nbconvert_exporter": "python",
   "pygments_lexer": "ipython3",
   "version": "3.11.9"
  }
 },
 "nbformat": 4,
 "nbformat_minor": 2
}
